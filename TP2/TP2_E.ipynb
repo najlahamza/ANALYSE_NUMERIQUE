{
 "cells": [
  {
   "cell_type": "markdown",
   "metadata": {},
   "source": [
    "# TP2 Interpolation Numérique \n",
    "<img src=\"tp2an.png\">"
   ]
  },
  {
   "cell_type": "markdown",
   "metadata": {},
   "source": [
    "## Exercice 1"
   ]
  },
  {
   "cell_type": "markdown",
   "metadata": {},
   "source": [
    "**Polynome d'interpolation de Lagrange** \n",
    "> Soient $(x_0,y_0), \\ldots,(x_k,y_k),\\ldots ,(x_n,k_n)$ $n+1$ points deux à deux distincts, le polynôme d'interpolation de Lagrange associés à ces points supports est défini par :\n",
    "> $$P_n(x)=\\sum_{k=0}^{n-1} y_kL_k(x)$$\n",
    "\n",
    "avec $L_{0}(x)=\\displaystyle\\frac{(x-x_1)(x-x_2)\\ldots(x-x_{n})}{(x_0-x_1)(x_0-x_2)\\ldots(x_0-x_{n})}$ et $L_{k}(x)=\\displaystyle\\frac{(x-x_1)(x-x_2)\\ldots(x-x_{k-1})(x-x_{k+1})\\ldots(x_0-x_{n})}{(x_k-x_0)(x_k-x_1)\\ldots(x_k-x_{k-1})(x_k-x_{k+1})\\ldots(x_k-x_{n})}$ pour $k\\in \\{1,\\ldots,n\\}$"
   ]
  },
  {
   "cell_type": "markdown",
   "metadata": {},
   "source": [
    "1) Que renvoie la fonction PR lorsqu'on lui déclare  **x=(x(1),x(2),...,x(n))x=(x(1),x(2),...,x(n))**  et  **y=(y(1),y(2),...,y(n))y=(y(1),y(2),...,y(n))**  deux vecteurs de même longueur  `n` et `c`  un nombre réel donné."
   ]
  },
  {
   "cell_type": "code",
   "execution_count": 1,
   "metadata": {},
   "outputs": [],
   "source": [
    "from numpy import prod\n",
    "def PR(x,y,c):\n",
    "    S = [] \n",
    "    n = len(x)\n",
    "    \n",
    "    for j in range(n):\n",
    "        L =[c-xx for xx in x]\n",
    "        for k in range(n):\n",
    "            if (k == j):                \n",
    "                L[k] = 1\n",
    "            else:\n",
    "                L[k] = L[k]/(x[j] - x[k])   \n",
    "        S.append(y[j]*prod(L))\n",
    "    #print(L)    \n",
    "    return  sum(S)"
   ]
  },
  {
   "cell_type": "code",
   "execution_count": 4,
   "metadata": {},
   "outputs": [
    {
     "name": "stdout",
     "output_type": "stream",
     "text": [
      "-1.0\n",
      "0.0\n",
      "2.0\n",
      "1.0\n",
      "3.0\n"
     ]
    },
    {
     "data": {
      "text/plain": [
       "8"
      ]
     },
     "execution_count": 4,
     "metadata": {},
     "output_type": "execute_result"
    }
   ],
   "source": [
    "\n",
    "X=[1 ,2 ,3 ,4,-2];\n",
    "Y=[-1, 0, 2 ,1,3];\n",
    "for i in X:\n",
    "    print(PR(X,Y,i))\n",
    "sum(X)"
   ]
  },
  {
   "cell_type": "markdown",
   "metadata": {},
   "source": [
    "2) Que contient le vecteur  LL  après la fin de la boucle  kk ."
   ]
  },
  {
   "cell_type": "markdown",
   "metadata": {},
   "source": [
    "<h2>L = [1.0, 1.0, 1.0, 1.0, 1]</h2>"
   ]
  },
  {
   "cell_type": "markdown",
   "metadata": {},
   "source": [
    "3) Utiliser cette fonction pour dessiner le graph du polynôme de Lagrange  de la fonction $f(x) = \\dfrac{1}{1 + x^2}$ aux points $x=[-1:0.1:1]$."
   ]
  },
  {
   "cell_type": "code",
   "execution_count": 3,
   "metadata": {},
   "outputs": [
    {
     "data": {
      "image/png": "[encoded data removed]",
      "text/plain": [
       "<Figure size 432x288 with 1 Axes>"
      ]
     },
     "metadata": {
      "needs_background": "light"
     },
     "output_type": "display_data"
    }
   ],
   "source": [
    "import matplotlib.pyplot as plt\n",
    "from math import *\n",
    "from numpy import linspace\n",
    "import matplotlib.pyplot as plt\n",
    "import numpy as np\n",
    "x=np.linspace(-1, 0.1, 1)\n",
    "f = lambda x:  1/(1+x**2)\n",
    "y = f(x)\n",
    "t=np.linspace(-1, 1, 100)\n",
    "pt=[]\n",
    "for u in t:\n",
    "    pt.append(PR(x,y,u))\n",
    "plt.plot(t,pt,'r',x,y,'bo',t,f(t),'g')\n",
    "plt.grid(True)   \n",
    "plt.show() "
   ]
  },
  {
   "cell_type": "code",
   "execution_count": 8,
   "metadata": {},
   "outputs": [
    {
     "name": "stdout",
     "output_type": "stream",
     "text": [
      "0.5\n"
     ]
    },
    {
     "data": {
      "image/png": "[encoded data removed]",
      "text/plain": [
       "<Figure size 432x288 with 1 Axes>"
      ]
     },
     "metadata": {
      "needs_background": "light"
     },
     "output_type": "display_data"
    },
    {
     "name": "stdout",
     "output_type": "stream",
     "text": [
      "1\n"
     ]
    }
   ],
   "source": [
    "import numpy as np\n",
    "import matplotlib.pyplot as plt\n",
    "x=np.linspace(-1, 0.1, 1)\n",
    "def f(a): 1/(1+a**2)\n",
    "y= [f(i) for i in x]\n",
    "for i in range (0,len(x)):\n",
    "    y[i]= 1/(1+x[i]**2)\n",
    "    print(y[i])\n",
    "\n",
    "pt=[]\n",
    "t=np.linspace(-1,1,100);\n",
    "\n",
    "pt=[ PR(x,y,t[u]) for u in range (0,len(t))]\n",
    "\n",
    "z= [f(i) for i in t]\n",
    "for i in range (0,len(t)):\n",
    "    z[i]= 1/(1+t[i]**2)\n",
    "\n",
    "plt.plot(t,pt,'r')\n",
    "plt.plot(x,y,'bo')\n",
    "plt.plot(t,z,'g')\n",
    "plt.show()\n",
    "print(len(y))\n"
   ]
  },
  {
   "cell_type": "markdown",
   "metadata": {},
   "source": [
    "4) On considère la fonction $F$ suivante :\n",
    "$$\n",
    "F(h) = \\pi -\\cos \\left(\\frac{h}{2}\\right) + h \\sqrt{1-\\left(\\frac{h}{2}\\right)^2}, \\qquad\n",
    "h\\in [0,2],\n",
    "$$\n",
    "et les points d'interpolation $x_i = ih$, $0\\leq i\\leq n$, avec $ n=20$ et $h=0.1$."
   ]
  },
  {
   "cell_type": "markdown",
   "metadata": {},
   "source": [
    "4.1) Représenter sur un même graphe la fonction $F$ et $p_n$, où\n",
    " $p_n$ est le polynôme d'interpolation de Lagrange de $F$ aux\n",
    " points $x_0,\\,\\ldots,\\,x_n$."
   ]
  },
  {
   "cell_type": "code",
   "execution_count": 12,
   "metadata": {},
   "outputs": [
    {
     "name": "stdout",
     "output_type": "stream",
     "text": [
      "[2.141592653589793, 2.2480946383890954, 2.3564844222065187, 2.465860346030544, 2.575287670302599, 2.6837839459284267, 2.7903017627022058, 2.8937074218170658, 2.992753404676777, 3.086041349574592, 3.1719701938236, 3.248660343567249, 3.313837313389956, 3.364642701530854, 3.3973045782487543, 3.406506844218595, 3.384015940861791, 3.315036315540085, 3.164362290875303, 2.6012903477216534]\n",
      "[0.         0.10526316 0.21052632 0.31578947 0.42105263 0.52631579\n",
      " 0.63157895 0.73684211 0.84210526 0.94736842 1.05263158 1.15789474\n",
      " 1.26315789 1.36842105 1.47368421 1.57894737 1.68421053 1.78947368\n",
      " 1.89473684 2.        ]\n"
     ]
    },
    {
     "data": {
      "image/png": "[encoded data removed]",
      "text/plain": [
       "<Figure size 432x288 with 1 Axes>"
      ]
     },
     "metadata": {
      "needs_background": "light"
     },
     "output_type": "display_data"
    }
   ],
   "source": [
    "x=np.linspace(0, 2, 20)\n",
    "def f(x): np.pi-np.cos(x/2)+x*np.sqrt(1-(x/2)**2) \n",
    "\n",
    "y= [f(i) for i in x]\n",
    "for i in range (0,len(x)):\n",
    "    y[i]= np.pi-np.cos(x[i]/2)+x[i]*np.sqrt(1-(x[i]/2)**2)\n",
    "\n",
    "print(y)\n",
    "print(x)\n",
    "pn=[]\n",
    "\n",
    "pn=[ PR(x,y,t[u]) for u in range (0,len(t))]\n",
    "\n",
    "z= [f(i) for i in t]\n",
    "for i in range (0,len(t)):\n",
    "    z[i]= np.pi-np.cos(t[i]/2)+t[i]*np.sqrt(1-(t[i]/2)**2)\n",
    "\n",
    "plt.plot(t,pt,'r')\n",
    "plt.plot(x,y,'bo')\n",
    "plt.plot(t,z,'g')\n",
    "plt.show()\n"
   ]
  },
  {
   "cell_type": "markdown",
   "metadata": {},
   "source": [
    "2)Tracer la courbe d'erreur  (la\n",
    " fonction $F-p_n$). Qu'observer vous."
   ]
  },
  {
   "cell_type": "code",
   "execution_count": 21,
   "metadata": {},
   "outputs": [
    {
     "data": {
      "image/png": "[encoded data removed]",
      "text/plain": [
       "<Figure size 432x288 with 1 Axes>"
      ]
     },
     "metadata": {
      "needs_background": "light"
     },
     "output_type": "display_data"
    }
   ],
   "source": [
    "x=np.linspace(-2, 0, 10)\n",
    "\n",
    "f = lambda x:  np.pi-np.cos(x/2)+x*np.sqrt(1-(x/2)**2)\n",
    "\n",
    "#def f(x): np.pi-np.cos(x/2)+x*np.sqrt(1-(x/2)**2) \n",
    "y= [f(i) for i in x]\n",
    "for i in range (0,len(x)):\n",
    "    y[i]= np.pi-np.cos(x[i]/2)+x[i]*np.sqrt(1-(x[i]/2)**2)\n",
    "pn=[]\n",
    "pn=[ PR(x,y,t[u]) for u in range (0,len(t))]\n",
    " \n",
    "z= [f(i) for i in t]\n",
    "for i in range (0,len(t)):\n",
    "    z[i]= np.pi-np.cos(t[i]/2)+t[i]*np.sqrt(1-(t[i]/2)**2)\n",
    "\n",
    "v=[z[j]-pn[j] for j in range(0,len(z)) ]\n",
    "\n",
    "plt.plot(t,v,'r')\n",
    "plt.plot(x,y,'bo')\n",
    "plt.plot(t,z,'g')\n",
    "plt.show()"
   ]
  },
  {
   "cell_type": "markdown",
   "metadata": {},
   "source": [
    "## Exercice 2  ( Phenomène de Runge )"
   ]
  },
  {
   "cell_type": "markdown",
   "metadata": {},
   "source": [
    "1) Vérifier que sur $[-5,5]$ le polynôme d'interpolation de Lagrange\n",
    "  de la fonction $f$ définie par $f(x)=\\displaystyle{\\frac{1}{1+x^2}}$,\n",
    "en $N$ points uniformément espacés ne convergent pas correctement aux voisinages de $-1$ et $1$, pour $N=7,8,9,10 ...$"
   ]
  },
  {
   "cell_type": "code",
   "execution_count": 25,
   "metadata": {},
   "outputs": [
    {
     "data": {
      "text/plain": [
       "Text(0.5, 1.0, 'Interpo Equidistante N=10')"
      ]
     },
     "execution_count": 25,
     "metadata": {},
     "output_type": "execute_result"
    },
    {
     "data": {
      "image/png": "[encoded data removed]",
      "text/plain": [
       "<Figure size 432x288 with 4 Axes>"
      ]
     },
     "metadata": {
      "needs_background": "light"
     },
     "output_type": "display_data"
    }
   ],
   "source": [
    "import numpy as np\n",
    "N=7\n",
    "X=np.linspace(-5,5,N)\n",
    "f = lambda x:  1./(1 + x**2)\n",
    "Y= [f(i) for i in X]\n",
    "for i in range (0,len(X)):\n",
    "    Y[i]= 1/(1+X[i]**2)\n",
    "p=np.polyfit(X,Y,N-1)\n",
    "t=np.linspace(-5,5,1000)\n",
    "plt.subplot(2,2,1)\n",
    "\n",
    "plt.plot(t,f(t),'r',X,Y,'ob', t, np.polyval(p,t),'g')\n",
    "plt.title(\"Interp Equidistante N=7\")\n",
    "##############################\n",
    "N=8\n",
    "X=np.linspace(-5,5,N)\n",
    "f = lambda x:  1./(1 + x**2)\n",
    "Y= [f(i) for i in X]\n",
    "for i in range (0,len(X)):\n",
    "    Y[i]= 1/(1+X[i]**2)\n",
    "p=np.polyfit(X,Y,N-1)\n",
    "t=np.linspace(-5,5,1000)\n",
    "plt.subplot(2,2,2)\n",
    "plt.plot(t,f(t),'r',X,Y,'ob', t, np.polyval(p,t),'g')\n",
    "plt.title(\"Interpo Equidiste N=8\")\n",
    "##############################\n",
    "N=9\n",
    "X=np.linspace(-5,5,N)\n",
    "f = lambda x:  1./(1 + x**2)\n",
    "Y= [f(i) for i in X]\n",
    "for i in range (0,len(X)):\n",
    "    Y[i]= 1/(1+X[i]**2)\n",
    "p=np.polyfit(X,Y,N-1)\n",
    "t=np.linspace(-5,5,1000)\n",
    "plt.subplot(2,2,3)\n",
    "plt.plot(t,f(t),'r',X,Y,'ob', t, np.polyval(p,t),'g')\n",
    "plt.title(\"Interp Equidistante N=9\")\n",
    "##############################\n",
    "N=10\n",
    "X=np.linspace(-5,5,N)\n",
    "f = lambda x:  1./(1 + x**2)\n",
    "Y= [f(i) for i in X]\n",
    "for i in range (0,len(X)):\n",
    "    Y[i]= 1/(1+X[i]**2)\n",
    "p=np.polyfit(X,Y,N-1)\n",
    "t=np.linspace(-5,5,1000)\n",
    "plt.subplot(2,2,4)\n",
    "plt.plot(t,f(t),'r',X,Y,'ob', t, np.polyval(p,t),'g')\n",
    "plt.title(\"Interpo Equidistante N=10\")"
   ]
  },
  {
   "cell_type": "markdown",
   "metadata": {},
   "source": [
    "2) Les points de Tchebycheff sur un intervalle $[a;b]$ sont définie par :\n",
    "  $$x_k=\\dfrac{a+b}{2}+\\dfrac{a-b}{2}\\cos\\left(\\frac{k-1}{n-1}\\pi\\right)\\hspace{0.5cm} (k=1,..,n: x_1=a:x_n=b)$$\n",
    "\n",
    "  Vérifier que sur $[-5; 5]$ ; l'interpolation polynômiale de $f(x) = \\dfrac{1}{1 + x^2}$ ; en $N$ points de Tchebychev\n",
    "est meilleure qu'une  interpolation utilisant $N$ points uniforment espacés (on prendra $N=10, 11, 16, 17$)."
   ]
  },
  {
   "cell_type": "code",
   "execution_count": 71,
   "metadata": {},
   "outputs": [
    {
     "name": "stdout",
     "output_type": "stream",
     "text": [
      "[-4.755282581475767, -5.0, -4.755282581475767, -4.045084971874737, -2.938926261462366, -1.5450849718747373, -3.061616997868383e-16, 1.5450849718747368, 2.938926261462365, 4.045084971874736, 4.755282581475767]\n"
     ]
    }
   ],
   "source": [
    "import math\n",
    "def tcheb(a,b,n):\n",
    "    v=[]\n",
    "    for k in range(n):\n",
    "        v.append((a+b)/2+(a-b)/2*math.cos((k-1)/(n-1)*math.pi))\n",
    "    return v\n",
    "print(tcheb(-5,5,11))"
   ]
  },
  {
   "cell_type": "code",
   "execution_count": 78,
   "metadata": {},
   "outputs": [
    {
     "name": "stderr",
     "output_type": "stream",
     "text": [
      "C:\\Users\\najla\\Anaconda_3\\lib\\site-packages\\IPython\\core\\interactiveshell.py:3437: RankWarning: Polyfit may be poorly conditioned\n",
      "  exec(code_obj, self.user_global_ns, self.user_ns)\n",
      "C:\\Users\\najla\\Anaconda_3\\lib\\site-packages\\IPython\\core\\interactiveshell.py:3437: RankWarning: Polyfit may be poorly conditioned\n",
      "  exec(code_obj, self.user_global_ns, self.user_ns)\n",
      "C:\\Users\\najla\\Anaconda_3\\lib\\site-packages\\IPython\\core\\interactiveshell.py:3437: RankWarning: Polyfit may be poorly conditioned\n",
      "  exec(code_obj, self.user_global_ns, self.user_ns)\n",
      "C:\\Users\\najla\\Anaconda_3\\lib\\site-packages\\IPython\\core\\interactiveshell.py:3437: RankWarning: Polyfit may be poorly conditioned\n",
      "  exec(code_obj, self.user_global_ns, self.user_ns)\n"
     ]
    },
    {
     "data": {
      "text/plain": [
       "Text(0.5, 1.0, 'Interpolation Tchebycheff avec N=17')"
      ]
     },
     "execution_count": 78,
     "metadata": {},
     "output_type": "execute_result"
    },
    {
     "data": {
      "image/png": "[encoded data removed]",
      "text/plain": [
       "<Figure size 432x288 with 4 Axes>"
      ]
     },
     "metadata": {
      "needs_background": "light"
     },
     "output_type": "display_data"
    }
   ],
   "source": [
    "N=10\n",
    "f=lambda x: 1/(1+np.power(x,2));\n",
    "Xt=tcheb(-5,5,N)\n",
    "Yt=f(Xt)\n",
    "pt=np.polyfit(Xt,Yt,N-1)\n",
    "plt.subplot(2,2,1)\n",
    "plt.plot(t,f(t),'r',Xt,Yt,'ob', t, np.polyval(pt,t),'g')\n",
    "plt.title(\"Interpolation Tchebycheff avec N=10\")\n",
    "##########################################\n",
    "N=11;\n",
    "f=lambda x: 1/(1+np.power(x,2));\n",
    "Xt=tcheb(-5,5,N);\n",
    "Yt=f(Xt);\n",
    "pt=np.polyfit(Xt,Yt,N-1);\n",
    "plt.subplot(2,2,2)\n",
    "plt.plot(t,f(t),'r',Xt,Yt,'ob', t, np.polyval(pt,t),'g')\n",
    "plt.title(\"Interpolation Tchebycheff avec N=11\")\n",
    "##########################################\n",
    "N=16;\n",
    "f=lambda x: 1/(1+np.power(x,2));\n",
    "Xt=tcheb(-5,5,N);\n",
    "Yt=f(Xt);\n",
    "pt=np.polyfit(Xt,Yt,N-1);\n",
    "plt.subplot(2,2,3)\n",
    "plt.plot(t,f(t),'r',Xt,Yt,'ob', t, np.polyval(pt,t),'g')\n",
    "plt.title(\"Interpolation Tchebycheff avec N=16\")\n",
    "##########################################\n",
    "\n",
    "N=17;\n",
    "f=lambda x: 1/(1+np.power(x,2));\n",
    "Xt=tcheb(-5,5,N);\n",
    "Yt=f(Xt);\n",
    "pt=np.polyfit(Xt,Yt,N-1);\n",
    "plt.subplot(2,2,4)\n",
    "plt.plot(t,f(t),'r',Xt,Yt,'ob', t, np.polyval(pt,t),'g')\n",
    "plt.title(\"Interpolation Tchebycheff avec N=17\")\n"
   ]
  },
  {
   "cell_type": "markdown",
   "metadata": {},
   "source": [
    "## Exercice 3"
   ]
  },
  {
   "cell_type": "markdown",
   "metadata": {},
   "source": [
    "On considère les deux programme MATLAB suivant :\n",
    "``` octave\n",
    "function f=intN(x,f)% RECURSIVE\n",
    "m=length(x);\n",
    "for k=2:m;\n",
    "    f(k:m)=(f(k:m)-f(k-1:m-1))./(x(k:m)-x(1:m+1-k))\n",
    "end\n",
    "``` \n",
    "``` octave\n",
    "function p=intNval(x,c,t)\n",
    "m=length(x);\n",
    "p=c(m)*ones(size(t));\n",
    "for k=m-1:-1:1;\n",
    "    p=p.*(t-x(k))+c(k);\n",
    "end\n",
    "```"
   ]
  },
  {
   "cell_type": "markdown",
   "metadata": {},
   "source": [
    "1) Déterminer en utilisant les deux codes puis par un calcul à la main le polynôme de Newton pour les données suivantes :\n",
    "\n",
    "\n",
    "<center>\n",
    "<table>    \n",
    "      $\\begin{array}{|c|c|c|}\n",
    "   \\hline\n",
    "   i & x_i  & y_i \\\\\n",
    "   \\hline\n",
    "   0 &   -1  &   6 \\\\\n",
    "   1 &   0 &  1 \\\\\n",
    "   2 &  2  &  3 \\\\\n",
    "   3 &  5  &  66 \\\\\n",
    "   \\hline\n",
    "\\end{array}$  \n",
    "</table>\n",
    "</center>"
   ]
  },
  {
   "cell_type": "code",
   "execution_count": 50,
   "metadata": {},
   "outputs": [],
   "source": [
    "def intN(x,y):\n",
    "    m=len(x)\n",
    "    f=np.zeros(m)\n",
    "    for k in range (1,m):\n",
    "        print(f[k:m])\n",
    "        f[k:m+1]=np.array(np.array(y[k:m+1])-np.array(y[k-1:m-1]))/np.array(np.array(x[k:m+1])-np.array(x[0:m-k]))\n",
    "    \n",
    "    return f"
   ]
  },
  {
   "cell_type": "code",
   "execution_count": 59,
   "metadata": {},
   "outputs": [
    {
     "name": "stdout",
     "output_type": "stream",
     "text": [
      "[0. 0. 0.]\n",
      "[ 1. 21.]\n",
      "[12.6]\n"
     ]
    },
    {
     "data": {
      "text/plain": [
       "array([ 0.        , -5.        ,  0.66666667, 10.5       ])"
      ]
     },
     "execution_count": 59,
     "metadata": {},
     "output_type": "execute_result"
    }
   ],
   "source": [
    "x=[-1,0,2,5];\n",
    "y=[6,1,3,66];\n",
    "intN(x,y)\n"
   ]
  },
  {
   "cell_type": "code",
   "execution_count": 65,
   "metadata": {},
   "outputs": [],
   "source": [
    "def intNval(x,y,t):\n",
    "    m=len(x)\n",
    "    p=y[m-1]*np.ones(len(t))\n",
    "    for k in range(m-2,-1,-1):\n",
    "        p=p*np.array((np.array(t)-x[k]))+y[k]\n",
    "    return p"
   ]
  },
  {
   "cell_type": "code",
   "execution_count": 66,
   "metadata": {},
   "outputs": [],
   "source": [
    "x=[-1,0,2,5];\n",
    "y=[6,1,3,66];\n",
    "t=[0,1,2,3];\n",
    "f=intNval(x,y,t)"
   ]
  },
  {
   "cell_type": "code",
   "execution_count": null,
   "metadata": {},
   "outputs": [],
   "source": []
  },
  {
   "cell_type": "markdown",
   "metadata": {},
   "source": [
    "2) Donner le Graph du polynôme trouvé en 1) dans l'intervalle $[-1;5]$."
   ]
  },
  {
   "cell_type": "code",
   "execution_count": 67,
   "metadata": {},
   "outputs": [
    {
     "name": "stdout",
     "output_type": "stream",
     "text": [
      "[0. 0. 0.]\n",
      "[ 1. 21.]\n",
      "[12.6]\n"
     ]
    },
    {
     "data": {
      "text/plain": [
       "[<matplotlib.lines.Line2D at 0x163ca447df0>,\n",
       " <matplotlib.lines.Line2D at 0x163ca447eb0>]"
      ]
     },
     "execution_count": 67,
     "metadata": {},
     "output_type": "execute_result"
    },
    {
     "data": {
      "image/png": "[encoded data removed]",
      "text/plain": [
       "<Figure size 432x288 with 1 Axes>"
      ]
     },
     "metadata": {
      "needs_background": "light"
     },
     "output_type": "display_data"
    }
   ],
   "source": [
    "x=[-1,0,2,5];\n",
    "y=[6,1,3,66];\n",
    "f=intN(x,y);\n",
    "plt.plot(x,f,'r',x,y,'ob')"
   ]
  },
  {
   "cell_type": "markdown",
   "metadata": {},
   "source": [
    "3) Calculer $P(1)$ en utilisant le polynôme trouvé en 1)."
   ]
  },
  {
   "cell_type": "code",
   "execution_count": 68,
   "metadata": {},
   "outputs": [
    {
     "data": {
      "text/plain": [
       "7.0"
      ]
     },
     "execution_count": 68,
     "metadata": {},
     "output_type": "execute_result"
    }
   ],
   "source": [
    "x=[-1,0,2,5];\n",
    "y=[6,1,3,66];\n",
    "t=[0,1,2,3];\n",
    "p=intNval(x,y,t);\n",
    "p[0]"
   ]
  },
  {
   "cell_type": "markdown",
   "metadata": {},
   "source": [
    "4) Recalculer à la main et puis à l'aide du Programme neville la valeur de $P(1)$."
   ]
  },
  {
   "cell_type": "code",
   "execution_count": null,
   "metadata": {},
   "outputs": [],
   "source": [
    "0.7"
   ]
  }
 ],
 "metadata": {
  "kernelspec": {
   "display_name": "Python 3",
   "language": "python",
   "name": "python3"
  },
  "language_info": {
   "codemirror_mode": {
    "name": "ipython",
    "version": 3
   },
   "file_extension": ".py",
   "mimetype": "text/x-python",
   "name": "python",
   "nbconvert_exporter": "python",
   "pygments_lexer": "ipython3",
   "version": "3.8.8"
  }
 },
 "nbformat": 4,
 "nbformat_minor": 2
}
